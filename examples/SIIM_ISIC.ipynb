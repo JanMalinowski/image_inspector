{
 "cells": [
  {
   "cell_type": "markdown",
   "metadata": {
    "papermill": {
     "duration": 0.010698,
     "end_time": "2020-10-05T21:34:44.256347",
     "exception": false,
     "start_time": "2020-10-05T21:34:44.245649",
     "status": "completed"
    },
    "tags": []
   },
   "source": [
    "# Intorduction\n",
    "Let's say that we want to improve accuracy of our classifier. We supose that there are three major problems with our alghoritms:\n",
    "- On some images there are hair\n",
    "- Some images were made witha  miscroscope, so an aperture can be seen on the image.\n",
    "- Some people's skin is more pink than others.\n",
    "\n",
    "Fixing this issue may help us to improve the classifier. However, are all of these things equally important? Maybe in some cases we're wrong. ```image_inspector``` is a simple package, that will help you to verify this!"
   ]
  },
  {
   "cell_type": "code",
   "execution_count": 1,
   "metadata": {
    "execution": {
     "iopub.execute_input": "2020-10-05T21:34:44.281190Z",
     "iopub.status.busy": "2020-10-05T21:34:44.280311Z",
     "iopub.status.idle": "2020-10-05T21:34:58.867816Z",
     "shell.execute_reply": "2020-10-05T21:34:58.867051Z"
    },
    "papermill": {
     "duration": 14.602629,
     "end_time": "2020-10-05T21:34:58.867953",
     "exception": false,
     "start_time": "2020-10-05T21:34:44.265324",
     "status": "completed"
    },
    "tags": []
   },
   "outputs": [
    {
     "name": "stdout",
     "output_type": "stream",
     "text": [
      "Collecting git+git://github.com/JanMalinowski/image_inspector.git\r\n",
      "  Cloning git://github.com/JanMalinowski/image_inspector.git to /tmp/pip-req-build-34chyw7f\r\n",
      "  Running command git clone -q git://github.com/JanMalinowski/image_inspector.git /tmp/pip-req-build-34chyw7f\r\n",
      "Building wheels for collected packages: image-inspector\r\n",
      "  Building wheel for image-inspector (setup.py) ... \u001b[?25l-\b \b\\\b \bdone\r\n",
      "\u001b[?25h  Created wheel for image-inspector: filename=image_inspector-0.0.3-py3-none-any.whl size=5434 sha256=c9aa996b0a4541cf4653c50ad4ebdb12e27fb147a8a120fca212d96fe2987deb\r\n",
      "  Stored in directory: /tmp/pip-ephem-wheel-cache-xx100r8l/wheels/dd/5a/0c/57cbf52f03ec47470dae671072b2ec97e6dd7984be2741a87a\r\n",
      "Successfully built image-inspector\r\n",
      "Installing collected packages: image-inspector\r\n",
      "Successfully installed image-inspector-0.0.3\r\n",
      "\u001b[33mWARNING: You are using pip version 20.1.1; however, version 20.2.3 is available.\r\n",
      "You should consider upgrading via the '/opt/conda/bin/python3.7 -m pip install --upgrade pip' command.\u001b[0m\r\n"
     ]
    }
   ],
   "source": [
    "# Importing the image_inspector\n",
    "!pip install git+git://github.com/JanMalinowski/image_inspector.git"
   ]
  },
  {
   "cell_type": "code",
   "execution_count": 2,
   "metadata": {
    "_cell_guid": "b1076dfc-b9ad-4769-8c92-a6c4dae69d19",
    "_uuid": "8f2839f25d086af736a60e9eeb907d3b93b6e0e5",
    "execution": {
     "iopub.execute_input": "2020-10-05T21:34:58.903219Z",
     "iopub.status.busy": "2020-10-05T21:34:58.902349Z",
     "iopub.status.idle": "2020-10-05T21:34:58.911663Z",
     "shell.execute_reply": "2020-10-05T21:34:58.910929Z"
    },
    "papermill": {
     "duration": 0.030255,
     "end_time": "2020-10-05T21:34:58.911803",
     "exception": false,
     "start_time": "2020-10-05T21:34:58.881548",
     "status": "completed"
    },
    "tags": []
   },
   "outputs": [],
   "source": [
    "# Importing the necessary libraries\n",
    "import pandas as pd\n",
    "from numpy import ceil\n",
    "from ipywidgets import AppLayout, Button, Layout, GridspecLayout, Image, Output, Button, ToggleButton\n",
    "from os import listdir\n",
    "from image_inspector import ImageInspector"
   ]
  },
  {
   "cell_type": "markdown",
   "metadata": {
    "papermill": {
     "duration": 0.012386,
     "end_time": "2020-10-05T21:34:58.937064",
     "exception": false,
     "start_time": "2020-10-05T21:34:58.924678",
     "status": "completed"
    },
    "tags": []
   },
   "source": [
    "# Example use\n",
    "\n",
    "The class ImageInspector could be used for e.g. inspecting images from one of Kaggle's latest competitions [SIIM-ISIC Melanoma Classification](https://www.kaggle.com/c/siim-isic-melanoma-classification). Here, we suppose, that introducing hair/aperture/pink skin aperture may improve the accuracy. ```ImageInspector``` can help us to verify this. "
   ]
  },
  {
   "cell_type": "code",
   "execution_count": 3,
   "metadata": {
    "execution": {
     "iopub.execute_input": "2020-10-05T21:34:58.969761Z",
     "iopub.status.busy": "2020-10-05T21:34:58.968849Z",
     "iopub.status.idle": "2020-10-05T21:34:59.542642Z",
     "shell.execute_reply": "2020-10-05T21:34:59.541936Z"
    },
    "papermill": {
     "duration": 0.592567,
     "end_time": "2020-10-05T21:34:59.542792",
     "exception": false,
     "start_time": "2020-10-05T21:34:58.950225",
     "status": "completed"
    },
    "tags": []
   },
   "outputs": [],
   "source": [
    "path = '../input/siic-isic-224x224-images/train'\n",
    "imgs = listdir(path)"
   ]
  },
  {
   "cell_type": "code",
   "execution_count": 4,
   "metadata": {
    "execution": {
     "iopub.execute_input": "2020-10-05T21:34:59.630083Z",
     "iopub.status.busy": "2020-10-05T21:34:59.629192Z",
     "iopub.status.idle": "2020-10-05T21:34:59.640891Z",
     "shell.execute_reply": "2020-10-05T21:34:59.636245Z"
    },
    "papermill": {
     "duration": 0.085184,
     "end_time": "2020-10-05T21:34:59.641069",
     "exception": false,
     "start_time": "2020-10-05T21:34:59.555885",
     "status": "completed"
    },
    "tags": []
   },
   "outputs": [],
   "source": [
    "categories=['Hair', 'Aperture', 'Pink skin']\n",
    "ii = ImageInspector(imgs=imgs, path=path, categories=categories)"
   ]
  },
  {
   "cell_type": "markdown",
   "metadata": {
    "papermill": {
     "duration": 0.013856,
     "end_time": "2020-10-05T21:34:59.668589",
     "exception": false,
     "start_time": "2020-10-05T21:34:59.654733",
     "status": "completed"
    },
    "tags": []
   },
   "source": [
    "## **Note: The app runs only inside of the notebook.**"
   ]
  },
  {
   "cell_type": "code",
   "execution_count": 5,
   "metadata": {
    "execution": {
     "iopub.execute_input": "2020-10-05T21:34:59.701221Z",
     "iopub.status.busy": "2020-10-05T21:34:59.700064Z",
     "iopub.status.idle": "2020-10-05T21:34:59.798880Z",
     "shell.execute_reply": "2020-10-05T21:34:59.782511Z"
    },
    "papermill": {
     "duration": 0.117292,
     "end_time": "2020-10-05T21:34:59.799045",
     "exception": false,
     "start_time": "2020-10-05T21:34:59.681753",
     "status": "completed"
    },
    "tags": []
   },
   "outputs": [
    {
     "data": {
      "application/vnd.jupyter.widget-view+json": {
       "model_id": "c68f6c558d054120bd69b151169566fb",
       "version_major": 2,
       "version_minor": 0
      },
      "text/plain": [
       "Image(value=b'\\x89PNG\\r\\n\\x1a\\n\\x00\\x00\\x00\\rIHDR\\x00\\x00\\x00\\xe0\\x00\\x00\\x00\\xe0\\x08\\x02\\x00\\x00\\x00\\x95O\\xfd…"
      ]
     },
     "metadata": {},
     "output_type": "display_data"
    },
    {
     "data": {
      "application/vnd.jupyter.widget-view+json": {
       "model_id": "6d40f26aed6f4138a78c8d011d8dbbe3",
       "version_major": 2,
       "version_minor": 0
      },
      "text/plain": [
       "AppLayout(children=(GridspecLayout(children=(ToggleButton(value=False, description='Hair', layout=Layout(grid_…"
      ]
     },
     "metadata": {},
     "output_type": "display_data"
    }
   ],
   "source": [
    "ii()"
   ]
  },
  {
   "cell_type": "code",
   "execution_count": 6,
   "metadata": {
    "execution": {
     "iopub.execute_input": "2020-10-05T21:34:59.838670Z",
     "iopub.status.busy": "2020-10-05T21:34:59.837812Z",
     "iopub.status.idle": "2020-10-05T21:34:59.841380Z",
     "shell.execute_reply": "2020-10-05T21:34:59.840702Z"
    },
    "papermill": {
     "duration": 0.02799,
     "end_time": "2020-10-05T21:34:59.841515",
     "exception": false,
     "start_time": "2020-10-05T21:34:59.813525",
     "status": "completed"
    },
    "tags": []
   },
   "outputs": [],
   "source": [
    "result = ii.get_results()"
   ]
  },
  {
   "cell_type": "markdown",
   "metadata": {
    "papermill": {
     "duration": 0.014326,
     "end_time": "2020-10-05T21:34:59.870451",
     "exception": false,
     "start_time": "2020-10-05T21:34:59.856125",
     "status": "completed"
    },
    "tags": []
   },
   "source": [
    "We can calculate fraction of errors with a given category by calling ```result[categories].mean()```"
   ]
  },
  {
   "cell_type": "code",
   "execution_count": null,
   "metadata": {
    "papermill": {
     "duration": 0.014379,
     "end_time": "2020-10-05T21:34:59.900284",
     "exception": false,
     "start_time": "2020-10-05T21:34:59.885905",
     "status": "completed"
    },
    "tags": []
   },
   "outputs": [],
   "source": []
  }
 ],
 "metadata": {
  "kernelspec": {
   "display_name": "Python 3",
   "language": "python",
   "name": "python3"
  },
  "language_info": {
   "codemirror_mode": {
    "name": "ipython",
    "version": 3
   },
   "file_extension": ".py",
   "mimetype": "text/x-python",
   "name": "python",
   "nbconvert_exporter": "python",
   "pygments_lexer": "ipython3",
   "version": "3.8.3"
  },
  "papermill": {
   "duration": 29.231476,
   "end_time": "2020-10-05T21:35:00.026232",
   "environment_variables": {},
   "exception": null,
   "input_path": "__notebook__.ipynb",
   "output_path": "__notebook__.ipynb",
   "parameters": {},
   "start_time": "2020-10-05T21:34:30.794756",
   "version": "2.1.0"
  },
  "widgets": {
   "application/vnd.jupyter.widget-state+json": {
    "state": {
     "0592ec8c9fcf42a8b309390199a9b65b": {
      "model_module": "@jupyter-widgets/controls",
      "model_module_version": "1.5.0",
      "model_name": "DescriptionStyleModel",
      "state": {
       "_model_module": "@jupyter-widgets/controls",
       "_model_module_version": "1.5.0",
       "_model_name": "DescriptionStyleModel",
       "_view_count": null,
       "_view_module": "@jupyter-widgets/base",
       "_view_module_version": "1.2.0",
       "_view_name": "StyleView",
       "description_width": ""
      }
     },
     "2a6ecb0e34f64accae6299cdc608ecc8": {
      "model_module": "@jupyter-widgets/base",
      "model_module_version": "1.2.0",
      "model_name": "LayoutModel",
      "state": {
       "_model_module": "@jupyter-widgets/base",
       "_model_module_version": "1.2.0",
       "_model_name": "LayoutModel",
       "_view_count": null,
       "_view_module": "@jupyter-widgets/base",
       "_view_module_version": "1.2.0",
       "_view_name": "LayoutView",
       "align_content": null,
       "align_items": null,
       "align_self": null,
       "border": null,
       "bottom": null,
       "display": null,
       "flex": null,
       "flex_flow": null,
       "grid_area": null,
       "grid_auto_columns": null,
       "grid_auto_flow": null,
       "grid_auto_rows": null,
       "grid_column": null,
       "grid_gap": null,
       "grid_row": null,
       "grid_template_areas": "\"left-sidebar center right-sidebar\"\n\"footer footer footer\"",
       "grid_template_columns": "1fr 2fr 1fr",
       "grid_template_rows": "3fr 1fr",
       "height": null,
       "justify_content": null,
       "justify_items": null,
       "left": null,
       "margin": null,
       "max_height": null,
       "max_width": null,
       "min_height": null,
       "min_width": null,
       "object_fit": null,
       "object_position": null,
       "order": null,
       "overflow": null,
       "overflow_x": null,
       "overflow_y": null,
       "padding": null,
       "right": null,
       "top": null,
       "visibility": null,
       "width": null
      }
     },
     "30c6c2cc0adf47d1ba3aef7cff096c6a": {
      "model_module": "@jupyter-widgets/controls",
      "model_module_version": "1.5.0",
      "model_name": "ButtonStyleModel",
      "state": {
       "_model_module": "@jupyter-widgets/controls",
       "_model_module_version": "1.5.0",
       "_model_name": "ButtonStyleModel",
       "_view_count": null,
       "_view_module": "@jupyter-widgets/base",
       "_view_module_version": "1.2.0",
       "_view_name": "StyleView",
       "button_color": null,
       "font_weight": ""
      }
     },
     "4e091f4615fc4497891840189092f37a": {
      "model_module": "@jupyter-widgets/controls",
      "model_module_version": "1.5.0",
      "model_name": "ButtonModel",
      "state": {
       "_dom_classes": [],
       "_model_module": "@jupyter-widgets/controls",
       "_model_module_version": "1.5.0",
       "_model_name": "ButtonModel",
       "_view_count": null,
       "_view_module": "@jupyter-widgets/controls",
       "_view_module_version": "1.5.0",
       "_view_name": "ButtonView",
       "button_style": "",
       "description": "Next",
       "disabled": false,
       "icon": "",
       "layout": "IPY_MODEL_cf72e12727e946229be7a53a63446067",
       "style": "IPY_MODEL_89022b2bc5b4444eb6ea2f3e08922d72",
       "tooltip": ""
      }
     },
     "6d40f26aed6f4138a78c8d011d8dbbe3": {
      "model_module": "@jupyter-widgets/controls",
      "model_module_version": "1.5.0",
      "model_name": "GridBoxModel",
      "state": {
       "_dom_classes": [],
       "_model_module": "@jupyter-widgets/controls",
       "_model_module_version": "1.5.0",
       "_model_name": "GridBoxModel",
       "_view_count": null,
       "_view_module": "@jupyter-widgets/controls",
       "_view_module_version": "1.5.0",
       "_view_name": "GridBoxView",
       "box_style": "",
       "children": [
        "IPY_MODEL_8c464913f231493b8f92ce818ba2b033",
        "IPY_MODEL_af7a78730584487585c76259f70d452a",
        "IPY_MODEL_4e091f4615fc4497891840189092f37a",
        "IPY_MODEL_b2ba538ee558452f97d3f1237e814d3d"
       ],
       "layout": "IPY_MODEL_2a6ecb0e34f64accae6299cdc608ecc8"
      }
     },
     "82aa364eb3fe4c32818d3777c071b494": {
      "model_module": "@jupyter-widgets/controls",
      "model_module_version": "1.5.0",
      "model_name": "ToggleButtonModel",
      "state": {
       "_dom_classes": [],
       "_model_module": "@jupyter-widgets/controls",
       "_model_module_version": "1.5.0",
       "_model_name": "ToggleButtonModel",
       "_view_count": null,
       "_view_module": "@jupyter-widgets/controls",
       "_view_module_version": "1.5.0",
       "_view_name": "ToggleButtonView",
       "button_style": "",
       "description": "Pink skin",
       "description_tooltip": null,
       "disabled": false,
       "icon": "",
       "layout": "IPY_MODEL_bb58c0fdecd54d32a2c1ebb2b2dde643",
       "style": "IPY_MODEL_f5f1f7d88b4c4596878121f5bd0bd79c",
       "tooltip": "",
       "value": false
      }
     },
     "89022b2bc5b4444eb6ea2f3e08922d72": {
      "model_module": "@jupyter-widgets/controls",
      "model_module_version": "1.5.0",
      "model_name": "ButtonStyleModel",
      "state": {
       "_model_module": "@jupyter-widgets/controls",
       "_model_module_version": "1.5.0",
       "_model_name": "ButtonStyleModel",
       "_view_count": null,
       "_view_module": "@jupyter-widgets/base",
       "_view_module_version": "1.2.0",
       "_view_name": "StyleView",
       "button_color": null,
       "font_weight": ""
      }
     },
     "8c464913f231493b8f92ce818ba2b033": {
      "model_module": "@jupyter-widgets/controls",
      "model_module_version": "1.5.0",
      "model_name": "GridBoxModel",
      "state": {
       "_dom_classes": [],
       "_model_module": "@jupyter-widgets/controls",
       "_model_module_version": "1.5.0",
       "_model_name": "GridBoxModel",
       "_view_count": null,
       "_view_module": "@jupyter-widgets/controls",
       "_view_module_version": "1.5.0",
       "_view_name": "GridBoxView",
       "box_style": "",
       "children": [
        "IPY_MODEL_d05c1950fe1e420e9e0155c52be4cffb",
        "IPY_MODEL_b3e2b741ecee48b1bc7f1b270dc140cc",
        "IPY_MODEL_82aa364eb3fe4c32818d3777c071b494"
       ],
       "layout": "IPY_MODEL_aecfcb43d25b4d71b62e7607b4ac77e8"
      }
     },
     "9e51a74f82284db28331cabeabba44f9": {
      "model_module": "@jupyter-widgets/base",
      "model_module_version": "1.2.0",
      "model_name": "LayoutModel",
      "state": {
       "_model_module": "@jupyter-widgets/base",
       "_model_module_version": "1.2.0",
       "_model_name": "LayoutModel",
       "_view_count": null,
       "_view_module": "@jupyter-widgets/base",
       "_view_module_version": "1.2.0",
       "_view_name": "LayoutView",
       "align_content": null,
       "align_items": null,
       "align_self": null,
       "border": null,
       "bottom": null,
       "display": null,
       "flex": null,
       "flex_flow": null,
       "grid_area": "widget002",
       "grid_auto_columns": null,
       "grid_auto_flow": null,
       "grid_auto_rows": null,
       "grid_column": null,
       "grid_gap": null,
       "grid_row": null,
       "grid_template_areas": null,
       "grid_template_columns": null,
       "grid_template_rows": null,
       "height": null,
       "justify_content": null,
       "justify_items": null,
       "left": null,
       "margin": null,
       "max_height": null,
       "max_width": null,
       "min_height": null,
       "min_width": null,
       "object_fit": null,
       "object_position": null,
       "order": null,
       "overflow": null,
       "overflow_x": null,
       "overflow_y": null,
       "padding": null,
       "right": null,
       "top": null,
       "visibility": null,
       "width": null
      }
     },
     "aecfcb43d25b4d71b62e7607b4ac77e8": {
      "model_module": "@jupyter-widgets/base",
      "model_module_version": "1.2.0",
      "model_name": "LayoutModel",
      "state": {
       "_model_module": "@jupyter-widgets/base",
       "_model_module_version": "1.2.0",
       "_model_name": "LayoutModel",
       "_view_count": null,
       "_view_module": "@jupyter-widgets/base",
       "_view_module_version": "1.2.0",
       "_view_name": "LayoutView",
       "align_content": null,
       "align_items": null,
       "align_self": null,
       "border": null,
       "bottom": null,
       "display": null,
       "flex": null,
       "flex_flow": null,
       "grid_area": "footer",
       "grid_auto_columns": null,
       "grid_auto_flow": null,
       "grid_auto_rows": null,
       "grid_column": null,
       "grid_gap": null,
       "grid_row": null,
       "grid_template_areas": "\"widget001 widget002 widget003\"",
       "grid_template_columns": "repeat(3, 1fr)",
       "grid_template_rows": "repeat(1, 1fr)",
       "height": null,
       "justify_content": null,
       "justify_items": null,
       "left": null,
       "margin": null,
       "max_height": null,
       "max_width": null,
       "min_height": null,
       "min_width": null,
       "object_fit": null,
       "object_position": null,
       "order": null,
       "overflow": null,
       "overflow_x": null,
       "overflow_y": null,
       "padding": null,
       "right": null,
       "top": null,
       "visibility": null,
       "width": null
      }
     },
     "af3eb37c34ba4103941a9bb23eebff45": {
      "model_module": "@jupyter-widgets/controls",
      "model_module_version": "1.5.0",
      "model_name": "DescriptionStyleModel",
      "state": {
       "_model_module": "@jupyter-widgets/controls",
       "_model_module_version": "1.5.0",
       "_model_name": "DescriptionStyleModel",
       "_view_count": null,
       "_view_module": "@jupyter-widgets/base",
       "_view_module_version": "1.2.0",
       "_view_name": "StyleView",
       "description_width": ""
      }
     },
     "af7a78730584487585c76259f70d452a": {
      "model_module": "@jupyter-widgets/controls",
      "model_module_version": "1.5.0",
      "model_name": "ButtonModel",
      "state": {
       "_dom_classes": [],
       "_model_module": "@jupyter-widgets/controls",
       "_model_module_version": "1.5.0",
       "_model_name": "ButtonModel",
       "_view_count": null,
       "_view_module": "@jupyter-widgets/controls",
       "_view_module_version": "1.5.0",
       "_view_name": "ButtonView",
       "button_style": "",
       "description": "Previous",
       "disabled": true,
       "icon": "",
       "layout": "IPY_MODEL_c9420bc6eee0440aade795690b5b70a1",
       "style": "IPY_MODEL_30c6c2cc0adf47d1ba3aef7cff096c6a",
       "tooltip": ""
      }
     },
     "b2ba538ee558452f97d3f1237e814d3d": {
      "model_module": "@jupyter-widgets/output",
      "model_module_version": "1.0.0",
      "model_name": "OutputModel",
      "state": {
       "_dom_classes": [],
       "_model_module": "@jupyter-widgets/output",
       "_model_module_version": "1.0.0",
       "_model_name": "OutputModel",
       "_view_count": null,
       "_view_module": "@jupyter-widgets/output",
       "_view_module_version": "1.0.0",
       "_view_name": "OutputView",
       "layout": "IPY_MODEL_c70cece7560244939a5130596fb1dbbd",
       "msg_id": "",
       "outputs": []
      }
     },
     "b3e2b741ecee48b1bc7f1b270dc140cc": {
      "model_module": "@jupyter-widgets/controls",
      "model_module_version": "1.5.0",
      "model_name": "ToggleButtonModel",
      "state": {
       "_dom_classes": [],
       "_model_module": "@jupyter-widgets/controls",
       "_model_module_version": "1.5.0",
       "_model_name": "ToggleButtonModel",
       "_view_count": null,
       "_view_module": "@jupyter-widgets/controls",
       "_view_module_version": "1.5.0",
       "_view_name": "ToggleButtonView",
       "button_style": "",
       "description": "Aperture",
       "description_tooltip": null,
       "disabled": false,
       "icon": "",
       "layout": "IPY_MODEL_9e51a74f82284db28331cabeabba44f9",
       "style": "IPY_MODEL_0592ec8c9fcf42a8b309390199a9b65b",
       "tooltip": "",
       "value": false
      }
     },
     "bb58c0fdecd54d32a2c1ebb2b2dde643": {
      "model_module": "@jupyter-widgets/base",
      "model_module_version": "1.2.0",
      "model_name": "LayoutModel",
      "state": {
       "_model_module": "@jupyter-widgets/base",
       "_model_module_version": "1.2.0",
       "_model_name": "LayoutModel",
       "_view_count": null,
       "_view_module": "@jupyter-widgets/base",
       "_view_module_version": "1.2.0",
       "_view_name": "LayoutView",
       "align_content": null,
       "align_items": null,
       "align_self": null,
       "border": null,
       "bottom": null,
       "display": null,
       "flex": null,
       "flex_flow": null,
       "grid_area": "widget003",
       "grid_auto_columns": null,
       "grid_auto_flow": null,
       "grid_auto_rows": null,
       "grid_column": null,
       "grid_gap": null,
       "grid_row": null,
       "grid_template_areas": null,
       "grid_template_columns": null,
       "grid_template_rows": null,
       "height": null,
       "justify_content": null,
       "justify_items": null,
       "left": null,
       "margin": null,
       "max_height": null,
       "max_width": null,
       "min_height": null,
       "min_width": null,
       "object_fit": null,
       "object_position": null,
       "order": null,
       "overflow": null,
       "overflow_x": null,
       "overflow_y": null,
       "padding": null,
       "right": null,
       "top": null,
       "visibility": null,
       "width": null
      }
     },
     "c68f6c558d054120bd69b151169566fb": {
      "buffers": [
       {
        "data": "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",
        "encoding": "base64",
        "path": [
         "value"
        ]
       }
      ],
      "model_module": "@jupyter-widgets/controls",
      "model_module_version": "1.5.0",
      "model_name": "ImageModel",
      "state": {
       "_dom_classes": [],
       "_model_module": "@jupyter-widgets/controls",
       "_model_module_version": "1.5.0",
       "_model_name": "ImageModel",
       "_view_count": null,
       "_view_module": "@jupyter-widgets/controls",
       "_view_module_version": "1.5.0",
       "_view_name": "ImageView",
       "format": "png",
       "height": "400",
       "layout": "IPY_MODEL_c6bbf64fc2cf4640a3faff8daedce695",
       "value": {},
       "width": "400"
      }
     },
     "c6bbf64fc2cf4640a3faff8daedce695": {
      "model_module": "@jupyter-widgets/base",
      "model_module_version": "1.2.0",
      "model_name": "LayoutModel",
      "state": {
       "_model_module": "@jupyter-widgets/base",
       "_model_module_version": "1.2.0",
       "_model_name": "LayoutModel",
       "_view_count": null,
       "_view_module": "@jupyter-widgets/base",
       "_view_module_version": "1.2.0",
       "_view_name": "LayoutView",
       "align_content": null,
       "align_items": null,
       "align_self": null,
       "border": null,
       "bottom": null,
       "display": null,
       "flex": null,
       "flex_flow": null,
       "grid_area": null,
       "grid_auto_columns": null,
       "grid_auto_flow": null,
       "grid_auto_rows": null,
       "grid_column": null,
       "grid_gap": null,
       "grid_row": null,
       "grid_template_areas": null,
       "grid_template_columns": null,
       "grid_template_rows": null,
       "height": null,
       "justify_content": null,
       "justify_items": null,
       "left": null,
       "margin": null,
       "max_height": null,
       "max_width": null,
       "min_height": null,
       "min_width": null,
       "object_fit": null,
       "object_position": null,
       "order": null,
       "overflow": null,
       "overflow_x": null,
       "overflow_y": null,
       "padding": null,
       "right": null,
       "top": null,
       "visibility": null,
       "width": null
      }
     },
     "c70cece7560244939a5130596fb1dbbd": {
      "model_module": "@jupyter-widgets/base",
      "model_module_version": "1.2.0",
      "model_name": "LayoutModel",
      "state": {
       "_model_module": "@jupyter-widgets/base",
       "_model_module_version": "1.2.0",
       "_model_name": "LayoutModel",
       "_view_count": null,
       "_view_module": "@jupyter-widgets/base",
       "_view_module_version": "1.2.0",
       "_view_name": "LayoutView",
       "align_content": null,
       "align_items": null,
       "align_self": null,
       "border": null,
       "bottom": null,
       "display": null,
       "flex": null,
       "flex_flow": null,
       "grid_area": "center",
       "grid_auto_columns": null,
       "grid_auto_flow": null,
       "grid_auto_rows": null,
       "grid_column": null,
       "grid_gap": null,
       "grid_row": null,
       "grid_template_areas": null,
       "grid_template_columns": null,
       "grid_template_rows": null,
       "height": null,
       "justify_content": null,
       "justify_items": null,
       "left": null,
       "margin": null,
       "max_height": null,
       "max_width": null,
       "min_height": null,
       "min_width": null,
       "object_fit": null,
       "object_position": null,
       "order": null,
       "overflow": null,
       "overflow_x": null,
       "overflow_y": null,
       "padding": null,
       "right": null,
       "top": null,
       "visibility": null,
       "width": null
      }
     },
     "c9420bc6eee0440aade795690b5b70a1": {
      "model_module": "@jupyter-widgets/base",
      "model_module_version": "1.2.0",
      "model_name": "LayoutModel",
      "state": {
       "_model_module": "@jupyter-widgets/base",
       "_model_module_version": "1.2.0",
       "_model_name": "LayoutModel",
       "_view_count": null,
       "_view_module": "@jupyter-widgets/base",
       "_view_module_version": "1.2.0",
       "_view_name": "LayoutView",
       "align_content": null,
       "align_items": null,
       "align_self": null,
       "border": null,
       "bottom": null,
       "display": null,
       "flex": null,
       "flex_flow": null,
       "grid_area": "left-sidebar",
       "grid_auto_columns": null,
       "grid_auto_flow": null,
       "grid_auto_rows": null,
       "grid_column": null,
       "grid_gap": null,
       "grid_row": null,
       "grid_template_areas": null,
       "grid_template_columns": null,
       "grid_template_rows": null,
       "height": null,
       "justify_content": null,
       "justify_items": null,
       "left": null,
       "margin": null,
       "max_height": null,
       "max_width": null,
       "min_height": null,
       "min_width": null,
       "object_fit": null,
       "object_position": null,
       "order": null,
       "overflow": null,
       "overflow_x": null,
       "overflow_y": null,
       "padding": null,
       "right": null,
       "top": null,
       "visibility": null,
       "width": null
      }
     },
     "cf72e12727e946229be7a53a63446067": {
      "model_module": "@jupyter-widgets/base",
      "model_module_version": "1.2.0",
      "model_name": "LayoutModel",
      "state": {
       "_model_module": "@jupyter-widgets/base",
       "_model_module_version": "1.2.0",
       "_model_name": "LayoutModel",
       "_view_count": null,
       "_view_module": "@jupyter-widgets/base",
       "_view_module_version": "1.2.0",
       "_view_name": "LayoutView",
       "align_content": null,
       "align_items": null,
       "align_self": null,
       "border": null,
       "bottom": null,
       "display": null,
       "flex": null,
       "flex_flow": null,
       "grid_area": "right-sidebar",
       "grid_auto_columns": null,
       "grid_auto_flow": null,
       "grid_auto_rows": null,
       "grid_column": null,
       "grid_gap": null,
       "grid_row": null,
       "grid_template_areas": null,
       "grid_template_columns": null,
       "grid_template_rows": null,
       "height": null,
       "justify_content": null,
       "justify_items": null,
       "left": null,
       "margin": null,
       "max_height": null,
       "max_width": null,
       "min_height": null,
       "min_width": null,
       "object_fit": null,
       "object_position": null,
       "order": null,
       "overflow": null,
       "overflow_x": null,
       "overflow_y": null,
       "padding": null,
       "right": null,
       "top": null,
       "visibility": null,
       "width": null
      }
     },
     "d05c1950fe1e420e9e0155c52be4cffb": {
      "model_module": "@jupyter-widgets/controls",
      "model_module_version": "1.5.0",
      "model_name": "ToggleButtonModel",
      "state": {
       "_dom_classes": [],
       "_model_module": "@jupyter-widgets/controls",
       "_model_module_version": "1.5.0",
       "_model_name": "ToggleButtonModel",
       "_view_count": null,
       "_view_module": "@jupyter-widgets/controls",
       "_view_module_version": "1.5.0",
       "_view_name": "ToggleButtonView",
       "button_style": "",
       "description": "Hair",
       "description_tooltip": null,
       "disabled": false,
       "icon": "",
       "layout": "IPY_MODEL_dac71e91466849ffb663830bdea5951b",
       "style": "IPY_MODEL_af3eb37c34ba4103941a9bb23eebff45",
       "tooltip": "",
       "value": false
      }
     },
     "dac71e91466849ffb663830bdea5951b": {
      "model_module": "@jupyter-widgets/base",
      "model_module_version": "1.2.0",
      "model_name": "LayoutModel",
      "state": {
       "_model_module": "@jupyter-widgets/base",
       "_model_module_version": "1.2.0",
       "_model_name": "LayoutModel",
       "_view_count": null,
       "_view_module": "@jupyter-widgets/base",
       "_view_module_version": "1.2.0",
       "_view_name": "LayoutView",
       "align_content": null,
       "align_items": null,
       "align_self": null,
       "border": null,
       "bottom": null,
       "display": null,
       "flex": null,
       "flex_flow": null,
       "grid_area": "widget001",
       "grid_auto_columns": null,
       "grid_auto_flow": null,
       "grid_auto_rows": null,
       "grid_column": null,
       "grid_gap": null,
       "grid_row": null,
       "grid_template_areas": null,
       "grid_template_columns": null,
       "grid_template_rows": null,
       "height": null,
       "justify_content": null,
       "justify_items": null,
       "left": null,
       "margin": null,
       "max_height": null,
       "max_width": null,
       "min_height": null,
       "min_width": null,
       "object_fit": null,
       "object_position": null,
       "order": null,
       "overflow": null,
       "overflow_x": null,
       "overflow_y": null,
       "padding": null,
       "right": null,
       "top": null,
       "visibility": null,
       "width": null
      }
     },
     "f5f1f7d88b4c4596878121f5bd0bd79c": {
      "model_module": "@jupyter-widgets/controls",
      "model_module_version": "1.5.0",
      "model_name": "DescriptionStyleModel",
      "state": {
       "_model_module": "@jupyter-widgets/controls",
       "_model_module_version": "1.5.0",
       "_model_name": "DescriptionStyleModel",
       "_view_count": null,
       "_view_module": "@jupyter-widgets/base",
       "_view_module_version": "1.2.0",
       "_view_name": "StyleView",
       "description_width": ""
      }
     }
    },
    "version_major": 2,
    "version_minor": 0
   }
  }
 },
 "nbformat": 4,
 "nbformat_minor": 4
}
