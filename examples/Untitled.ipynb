{
 "cells": [
  {
   "cell_type": "code",
   "execution_count": 2,
   "metadata": {},
   "outputs": [
    {
     "name": "stdout",
     "output_type": "stream",
     "text": [
      "Collecting git+git://github.com/JanMalinowski/image_inspector.git\n",
      "  Cloning git://github.com/JanMalinowski/image_inspector.git to /tmp/pip-req-build-mwjzfmds\n",
      "Building wheels for collected packages: image-inspector\n",
      "  Building wheel for image-inspector (setup.py) ... \u001b[?25ldone\n",
      "\u001b[?25h  Created wheel for image-inspector: filename=image_inspector-0.0.3-py3-none-any.whl size=6337 sha256=f9d1ec59a4b6c054a2698afd999e261f24142215c35ea14adc5d14a8b6d545c4\n",
      "  Stored in directory: /tmp/pip-ephem-wheel-cache-qolph5vv/wheels/e6/2a/9a/9a22ee4ed231887fa7aa34adef8ba58b282d6b26b7c18ce629\n",
      "Successfully built image-inspector\n",
      "Installing collected packages: image-inspector\n",
      "Successfully installed image-inspector-0.0.3\n"
     ]
    }
   ],
   "source": [
    "!pip install git+git://github.com/JanMalinowski/image_inspector.git"
   ]
  },
  {
   "cell_type": "code",
   "execution_count": null,
   "metadata": {},
   "outputs": [],
   "source": []
  }
 ],
 "metadata": {
  "kernelspec": {
   "display_name": "Python 3",
   "language": "python",
   "name": "python3"
  },
  "language_info": {
   "codemirror_mode": {
    "name": "ipython",
    "version": 3
   },
   "file_extension": ".py",
   "mimetype": "text/x-python",
   "name": "python",
   "nbconvert_exporter": "python",
   "pygments_lexer": "ipython3",
   "version": "3.8.3"
  }
 },
 "nbformat": 4,
 "nbformat_minor": 4
}
